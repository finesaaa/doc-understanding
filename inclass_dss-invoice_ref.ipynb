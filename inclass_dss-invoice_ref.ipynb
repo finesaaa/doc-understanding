{
 "cells": [
  {
   "cell_type": "markdown",
   "metadata": {},
   "source": [
    "# DSS: Streamlining Invoice Processing\n",
    "### Document Understanding Transformer for Efficient Business Operations in Python\n",
    "\n",
    "<div class=\"alert alert-success\">\n",
    "<b>Inclass: Data Science Series - Streamlining Invoice Processing </b>\n",
    "\n",
    "- 💻 Detail Material: [Document Understanding Transformer](https://github.com/clovaai/donut) for Efficient Business Operations in Python\n",
    "- 👩🏻‍🏫 Instructor: Fiqey Indriati Eka Sari\n",
    "\n",
    "© Algoritma 2024\n",
    "___\n",
    "</div>"
   ]
  },
  {
   "cell_type": "markdown",
   "metadata": {},
   "source": [
    "# Background \n",
    "Di dalam lanskap operasional bisnis yang terus berkembang dengan cepat, menguasai pemrosesan faktur yang efektif menjadi sangat penting. Pemrosesan faktur adalah bagian kritis dari kegiatan bisnis yang melibatkan pengelolaan keuangan dan akuntansi. Faktur yang diproses dengan baik membantu dalam pelacakan pengeluaran, mengoptimalkan arus kas, dan memastikan kepatuhan terhadap peraturan keuangan. Dengan lanskap bisnis yang cepat berubah, perusahaan perlu dapat beradaptasi dengan cepat. Menguasai pemrosesan faktur menjadi penting untuk mengatasi ketidakpastian dan menjaga kecepatan tanggapan terhadap perubahan di sekitarnya.\n",
    "\n",
    "Materi ini menawarkan solusi komprehensif dengan workshop khusus yang dilengkapi dengan keterampilan terkini. Fokusnya adalah pada penggunaan Document Understanding Transformer, sebuah model deep learning NLP, dengan pemrograman Python. Dengan menyelami teknologi ini, yang terbukti berhasil dalam tugas pemrosesan bahasa alami, peserta akan memperoleh keahlian untuk menyederhanakan dan meningkatkan alur kerja pemrosesan faktur. \n",
    "\n",
    "# Output\n",
    "\n",
    "Setelah menyelesaikan workshop ini, Anda akan dapat:\n",
    "\n",
    "- Memanfaatkan Document Understanding Transformer (Donut) untuk ekstraksi data yang akurat dari gambar penerimaan, mengoptimalkan alur kerja pemrosesan faktur.\n",
    "- Meningkatkan keterampilan analisis data untuk pengambilan keputusan yang terinformasi dalam operasional bisnis dengan memanfaatkan hasil keluaran dari Document Understanding Transformer.\n",
    "- Membangun aplikasi web yang ramah pengguna dengan alat seperti Gradio untuk pemindaian efisien penerimaan dan faktur, secara mulus sejalan dengan kebutuhan bisnis modern untuk proses keuangan yang efisien."
   ]
  },
  {
   "cell_type": "markdown",
   "metadata": {},
   "source": [
    "# Training Objectives\n",
    "\n",
    "**Python Programming Basics**\n",
    "\n",
    "- Anaconda Environment Preparation\n",
    "- Working with Jupyter Notebook (.ipynb)\n",
    "- Understanding Fundamental of Variables & Python Data Types\n",
    "- Exploring Python Functions and Looping Concepts.\n",
    "\n",
    "**Working with DataFrame Pandas**\n",
    "- Understanding Dataframe `pandas`\n",
    "- Master data manipulation and pre-processing\n",
    "- Perform conditional subsetting operations\n",
    "\n",
    "**Document Understanding Transformer (DUT) Utilization**\n",
    "\n",
    "- Introduction to Transformer Deep Learning NLP\n",
    "- Data Extraction using Donut Model (OCR-free Document Understanding Transformer)\n",
    "- Data Analysis Enhancement with DUT Outputs\n",
    "\n",
    "**Integration Gradio for Efficient Scanning**\n",
    "\n",
    "- Understand the fundamentals of Gradio for building user-friendly web applications.\n",
    "- Develop user-friendly web applications using Gradio for efficient receipt and invoice scanning\n"
   ]
  },
  {
   "cell_type": "markdown",
   "metadata": {},
   "source": [
    "# Python Programming Basics\n",
    "## Anaconda Environment Preparation"
   ]
  },
  {
   "cell_type": "markdown",
   "metadata": {},
   "source": [
    "### Cara Membuat Environtment Baru:\n",
    "\n",
    "- **1️⃣ Membuka Terminal pada Visual Studio Code**\n",
    "\n",
    "    Saat pertama kali kita membuka Visual Studio Code, terdapat beberapa menu di pojok kiri atas. Silahkan kamu klik menu **Terminal** pada bagian kiri atas. Lalu, pilih **`New Terminal`**. Selesai, kamu berhasil membuka terminal baru.\n",
    "\n",
    "\n",
    "- **2️⃣ Buat Environment dengan Nama `ENV_NAME`**:\n",
    "   \n",
    "    ```conda create -n dss_invoice python=3.10```\n",
    "\n",
    "    Tujuan dari kita menuliskan `python=3.10` agar python yang terinstall pada virtual environtment yang kita buat adalah python dengan versi 3.10. \n",
    "\n",
    "\n",
    "- **3️⃣ Mengaktifkan Environment**\n",
    "\n",
    "    Setelah virtual environtment yang baru kita buat sudah selesai, kita bisa mengaktifkan environtment yang sudah kita buat dengan code berikut.\n",
    "\n",
    "    ```conda activate dss_invoice```"
   ]
  },
  {
   "cell_type": "markdown",
   "metadata": {},
   "source": [
    "### Install/Update Package\n",
    "Sebelum melakukan instalasi package, pastikan Anda sudah melakukan aktivasi virtual environment tempat Anda mau menginstall package.\n",
    "```pip install <PACKAGE_NAME>```\n",
    "\n",
    "Kita juga bisa menginstallnya melalui sebuah teks `reqirements.txt` yang berisi list packages yang perlu diinstall, commandnya `pip install -r requirements.txt` dengan syarat sebelum menjalankan command ini, kita sudah berapa pada folder material utama"
   ]
  },
  {
   "cell_type": "markdown",
   "metadata": {},
   "source": [
    "### 🧪 Knowledge Check\n",
    "\n",
    "Pilihlah jawaban yang tepat dengan memberikan tanda centang pada kotak. \n",
    "\n",
    "1. Berikut adalah tujuan kita membuat virtual environment, **KECUALI** ...\n",
    "\n",
    "    - [ ] Kolaborasi (sharing environment)\n",
    "    - [ ] Mengisolasi package beserta versi-nya\n",
    "    - [x] Virtual environment harus dibuat agar Python dapat dijalankan\n",
    "\n",
    "3. Pasangkan beberapa opsi ini dengan pilihan yang cocok:\n",
    "    - Visual Studio Code: ...\n",
    "    - Miniconda: ...\n",
    "    - Python: ...\n",
    "    \n",
    "    Pilihan Jawaban:\n",
    "    - a. Bahasa Pemrograman\n",
    "    - b. Environment Manager\n",
    "    - c. Integrated Development Environment (IDE) "
   ]
  },
  {
   "cell_type": "markdown",
   "metadata": {},
   "source": [
    "## Working with Jupyter Notebook (.ipynb)"
   ]
  },
  {
   "cell_type": "markdown",
   "metadata": {},
   "source": [
    "#### Markdown Cell dan Code Cell"
   ]
  },
  {
   "cell_type": "markdown",
   "metadata": {},
   "source": [
    "Tipe cell dalam notebook:\n",
    "\n",
    "**1️⃣ Markdown** : untuk menuliskan narasi\n",
    "\n",
    "Ini adalah cell markdown. Kita bisa menulis teks **bold**, *italic*, bahkan formula matematis seperti:\n",
    "\n",
    "\\begin{equation}\n",
    "f(x) = \\frac{e^{-x}}{(1+e^{-x})}\n",
    "\\end{equation}"
   ]
  },
  {
   "cell_type": "markdown",
   "metadata": {},
   "source": [
    "Cara menambahkan gambar:\n",
    "\n",
    "`<img src=\"...\" width=\"500px\"></img>`"
   ]
  },
  {
   "cell_type": "markdown",
   "metadata": {},
   "source": [
    "**2️⃣ Code** : untuk menuliskan script code\n",
    "\n",
    "💡 symbol `#` pada cell code berarti adalah sebuah `comment`. **`Comment` pada cell code tidak akan dieksekusi**"
   ]
  },
  {
   "cell_type": "code",
   "execution_count": 2,
   "metadata": {},
   "outputs": [
    {
     "name": "stdout",
     "output_type": "stream",
     "text": [
      "dan ini adalah cell code tempat menuliskan code python\n"
     ]
    }
   ],
   "source": [
    "# ini merupakan cell untuk code\n",
    "print(\"dan ini adalah cell code tempat menuliskan code python\")"
   ]
  },
  {
   "cell_type": "markdown",
   "metadata": {},
   "source": [
    "> Untuk run cell code: Ctrl + Alt + Enter"
   ]
  },
  {
   "cell_type": "markdown",
   "metadata": {},
   "source": [
    "#### Command Mode and Edit Mode\n",
    "\n",
    "Ada 2 mode cell dalam notebook:\n",
    "1. **1️⃣ Command Mode**\n",
    "    - `a` : Menambah cell baru di atas\n",
    "    - `b` : Menambah cell baru di bawah\n",
    "    - `d` + `d` : Menghapus cell terpilih\n",
    "    - `c` : Menyalin cell terpilih\n",
    "    - `v` : Paste cell terpilih\n",
    "    - `m` : Mengubah tipe cell ke markdown\n",
    "    - `y` : Mengubah tipe cell ke kode\n",
    "    - `enter` : enter Edit Mode\n",
    "\n",
    "\n",
    "2. **2️⃣ Edit Mode (Cell Terdapat Border Biru Persegi Panjang)**\n",
    "    - `Ctrl + Enter`: eksekusi satu cell\n",
    "    - `Esc`: mengubah edit mode menjadi command mode"
   ]
  },
  {
   "cell_type": "markdown",
   "metadata": {},
   "source": [
    "## Understanding Fundamental of Variables & Python Data Types\n",
    "\n",
    "### Variables \n",
    "**Variable** adalah sebuah nama yang dipakai untuk menyimpan sebuah nilai. \n",
    "\n",
    "_So if we say, data is food, then variable is where we store the food._\n",
    "\n",
    "> 💡 Tanda `=` dipakai untuk assignment dalam membuat variabel baru"
   ]
  },
  {
   "cell_type": "code",
   "execution_count": 3,
   "metadata": {},
   "outputs": [
    {
     "data": {
      "text/plain": [
       "10"
      ]
     },
     "execution_count": 3,
     "metadata": {},
     "output_type": "execute_result"
    }
   ],
   "source": [
    "angka = 10\n",
    "angka"
   ]
  },
  {
   "cell_type": "markdown",
   "metadata": {},
   "source": [
    "🚀 Mari kita coba buat sebuah objek, yang berisikan nama dss ini!"
   ]
  },
  {
   "cell_type": "code",
   "execution_count": 4,
   "metadata": {},
   "outputs": [
    {
     "name": "stdout",
     "output_type": "stream",
     "text": [
      "Data Science Series: Streamlining Invoice Processing\n"
     ]
    }
   ],
   "source": [
    "dss_name = \"Data Science Series: Streamlining Invoice Processing\"\n",
    "print(dss_name)"
   ]
  },
  {
   "cell_type": "markdown",
   "metadata": {},
   "source": [
    "<div class=\"alert-info alert\">\n",
    "💡 Sebagai catatan, seperti bahasa pemrograman yang lainnya, Python bersifat <b>case-sensitive</b>.\n",
    "\n",
    "Sehingga `dss_name` dan `DSS_Name` dimaknai berbeda sehingga akan dianggap variabel yang berbeda pula. Maka dari itu, penamaan variable menjadi hal yang perlu diperhatikan.\n",
    "</div>"
   ]
  },
  {
   "cell_type": "code",
   "execution_count": 5,
   "metadata": {},
   "outputs": [
    {
     "data": {
      "text/plain": [
       "True"
      ]
     },
     "execution_count": 5,
     "metadata": {},
     "output_type": "execute_result"
    }
   ],
   "source": [
    "## code here\n",
    "dss_name == dss_name"
   ]
  },
  {
   "cell_type": "markdown",
   "metadata": {},
   "source": [
    "Kode di atas mengembalikan `True` sebagai output. Cobalah untuk membuat variabel baru dan gunakan `True` sebagai namanya. kemudian lihat apa yang akan terjadi.\n",
    "\n",
    "> SyntaxError: can't assign to keyword\n",
    "\n",
    "___\n",
    "\n",
    "Sebagai catatan, `True`, dan juga lawannya, False termasuk ke dalam daftar kata yang dinamakan **Python Keywords**. Kita tidak dapat menggunakan keyword sebagai nama variabel ataupun sebagai fungsi.\n",
    "\n",
    "Semua python keyword selain **True**, **False**, dan **None** adalah huruf kecil.\n",
    "\n",
    "___\n",
    "\n",
    "✨ **Keywords** adalah kata kunci yang sudah ditetapkan oleh Python sebagai nama yang tidak bisa dipakai baik untuk penamaan fungsi, variabel, dan lainnya. Keyword ditulis dalam lower-case (huruf kecil semua) kecuali keyword `True`, `False`, dan `None`. Sejauh ini (Python 3.10) keyword yang ada pada Python adalah sebagai berikut:"
   ]
  },
  {
   "cell_type": "code",
   "execution_count": 6,
   "metadata": {},
   "outputs": [
    {
     "data": {
      "text/plain": [
       "['False',\n",
       " 'None',\n",
       " 'True',\n",
       " 'and',\n",
       " 'as',\n",
       " 'assert',\n",
       " 'async',\n",
       " 'await',\n",
       " 'break',\n",
       " 'class',\n",
       " 'continue',\n",
       " 'def',\n",
       " 'del',\n",
       " 'elif',\n",
       " 'else',\n",
       " 'except',\n",
       " 'finally',\n",
       " 'for',\n",
       " 'from',\n",
       " 'global',\n",
       " 'if',\n",
       " 'import',\n",
       " 'in',\n",
       " 'is',\n",
       " 'lambda',\n",
       " 'nonlocal',\n",
       " 'not',\n",
       " 'or',\n",
       " 'pass',\n",
       " 'raise',\n",
       " 'return',\n",
       " 'try',\n",
       " 'while',\n",
       " 'with',\n",
       " 'yield']"
      ]
     },
     "execution_count": 6,
     "metadata": {},
     "output_type": "execute_result"
    }
   ],
   "source": [
    "# cek daftar keyword\n",
    "import keyword\n",
    "keyword.kwlist"
   ]
  },
  {
   "cell_type": "markdown",
   "metadata": {},
   "source": [
    "\n",
    "⚠️ Berikut beberapa ketentuan dalam memberikan nama variable pada Python:\n",
    "- Tidak boleh menggunakan angka di awal. Misal `1Algoritma`\n",
    "- Hanya kombinasi dari huruf kapital (A-Z), huruf nomina (a-z), angka (0-9).\n",
    "- Special character `!, $ , &, dll` tidak dapat digunakan dalam penamaan variabel.\n",
    "- Bersifat case-sensitive sehingga penamaan variable `algoritma`, `ALGORITMA`, dan `Algoritma` adalah 3 variable yang berbeda\n",
    "- Tidak boleh menggunakan keywords pada Python"
   ]
  },
  {
   "cell_type": "markdown",
   "metadata": {},
   "source": [
    "### Python Data Types\n",
    "\n",
    "> Untuk mengecek tipe data python dapat menggunakan `type()`"
   ]
  },
  {
   "cell_type": "markdown",
   "metadata": {},
   "source": [
    "#### (1) 🔠 String\n",
    "\n",
    "Python mewakili string apapun sebagai object `str`. Adapun beberapa cara untuk membuat nilai string:\n",
    "- menggunakan `''` (contoh: `'Jakarta'` atau `'saya lahir di Bekasi'`)\n",
    "- mengunakan `\"\"` (contoh: `\"hari jum'at\"`)\n",
    "- menggunakan `'''` atau `\"\"\"` (contoh: `'''Dia bersorak \"Hore! Sudah hari Jum'at\"'''`)"
   ]
  },
  {
   "cell_type": "code",
   "execution_count": 7,
   "metadata": {},
   "outputs": [
    {
     "data": {
      "text/plain": [
       "'Data Science Series: Streamlining Invoice Processing'"
      ]
     },
     "execution_count": 7,
     "metadata": {},
     "output_type": "execute_result"
    }
   ],
   "source": [
    "dss_name"
   ]
  },
  {
   "cell_type": "code",
   "execution_count": 8,
   "metadata": {},
   "outputs": [
    {
     "data": {
      "text/plain": [
       "str"
      ]
     },
     "execution_count": 8,
     "metadata": {},
     "output_type": "execute_result"
    }
   ],
   "source": [
    "# code here\n",
    "type(dss_name)"
   ]
  },
  {
   "cell_type": "markdown",
   "metadata": {},
   "source": [
    "#### (2) 🔢 Number\n",
    "\n",
    "Untuk menyimpan number, python memiliki dua tipe data asli yang disebut `int` dan `float`.\n",
    "- `int` digunakan untuk menyimpan **bilangan bulat** (yaitu: 1,2,-3)\n",
    "- `float` digunakan untuk menyimpan **bilangan real** (yaitu: 0.7, -1.8, -1000.0) 👉🏻 bilangan desimal."
   ]
  },
  {
   "cell_type": "code",
   "execution_count": 9,
   "metadata": {},
   "outputs": [],
   "source": [
    "# code here\n",
    "nilai_ta = 100\n",
    "nilai_fiqey = 90.0 "
   ]
  },
  {
   "cell_type": "code",
   "execution_count": 10,
   "metadata": {},
   "outputs": [
    {
     "data": {
      "text/plain": [
       "10.0"
      ]
     },
     "execution_count": 10,
     "metadata": {},
     "output_type": "execute_result"
    }
   ],
   "source": [
    "nilai_ta - nilai_fiqey"
   ]
  },
  {
   "cell_type": "markdown",
   "metadata": {},
   "source": [
    "**✨ Operasi Matematika ✨**\n",
    "- `+` - Penambahan\n",
    "- `-` - Pengurangan\n",
    "- `*` - Perkalian\n",
    "- `/` - Pembagian\n",
    "- `//` - Pembagian yang dibulatkan ke bawah\n",
    "- `%` - Modulus (sisa pembagian)\n",
    "- `**` - Eksponen (pangkat)"
   ]
  },
  {
   "cell_type": "markdown",
   "metadata": {},
   "source": [
    "#### (3) ✅ Boolean\n",
    "\n",
    "Boolean hanya berisikan nilai `True` atau `False`. Biasanya untuk menunjukkan kebenaran suatu kondisi"
   ]
  },
  {
   "cell_type": "code",
   "execution_count": 11,
   "metadata": {},
   "outputs": [
    {
     "data": {
      "text/plain": [
       "False"
      ]
     },
     "execution_count": 11,
     "metadata": {},
     "output_type": "execute_result"
    }
   ],
   "source": [
    "2 + 2 == 5\n",
    "# == --> untuk mengecek kondisi (apakah sama?)"
   ]
  },
  {
   "cell_type": "markdown",
   "metadata": {},
   "source": [
    "#### (4) 🗃️ List\n",
    "`list` digunakan untuk menyimpan beberapa nilai dalam python. Untuk membuatnya, cukup letakan nilai di dalam tanda kurung siku `[]`"
   ]
  },
  {
   "cell_type": "code",
   "execution_count": 12,
   "metadata": {},
   "outputs": [],
   "source": [
    "# list berikut mengandung informasi nama, kota domisili, umur, apakah sudah menikah?\n",
    "data_list = ['Sari', 'Jakarta', 27, False]"
   ]
  },
  {
   "cell_type": "code",
   "execution_count": 13,
   "metadata": {},
   "outputs": [
    {
     "data": {
      "text/plain": [
       "list"
      ]
     },
     "execution_count": 13,
     "metadata": {},
     "output_type": "execute_result"
    }
   ],
   "source": [
    "# cek tipe data my_list\n",
    "type(data_list)"
   ]
  },
  {
   "cell_type": "markdown",
   "metadata": {},
   "source": [
    "Dalam sebuah list kita dapat melakukan operasi mengakses elemen ke-i dari `list_x`, yaitu dengan `list_x[i]`. 📌 **Additional Information**\n",
    "\n",
    "- Python menggunakan sistem **zero based indexing** yang berarti, urutan pada python dimulai dari angka 0."
   ]
  },
  {
   "cell_type": "code",
   "execution_count": 14,
   "metadata": {},
   "outputs": [
    {
     "data": {
      "text/plain": [
       "'Jakarta'"
      ]
     },
     "execution_count": 14,
     "metadata": {},
     "output_type": "execute_result"
    }
   ],
   "source": [
    "# akses informasi kota domilisi dari seorang Sari, dimana informasi kota domilisi terletak di urutan ke-2 (index ke-1)\n",
    "data_list[1]"
   ]
  },
  {
   "cell_type": "markdown",
   "metadata": {},
   "source": [
    "#### (5) 🧾Dictionary\n",
    "\n",
    "`dictionary` atau `dict` digunakan untuk menyimpan data dalam bentuk pasangan key-value. Dalam dictionary, setiap key harus unik, dan value-nya bisa berupa berbagai tipe data seperti string, integer, list, atau bahkan dictionary lainnya. \n",
    "\n",
    "✨Dictionary didefinisikan dengan menggunakan tanda kurung kurawal `{}`."
   ]
  },
  {
   "cell_type": "code",
   "execution_count": 15,
   "metadata": {},
   "outputs": [],
   "source": [
    "# dictionary berisi informasi tentang seseorang\n",
    "data_dict = {\n",
    "    'nama': 'Sari',\n",
    "    'kota_domisili': 'Jakarta',\n",
    "    'umur': 27,\n",
    "    'menikah': False\n",
    "}"
   ]
  },
  {
   "cell_type": "code",
   "execution_count": 16,
   "metadata": {},
   "outputs": [
    {
     "data": {
      "text/plain": [
       "dict"
      ]
     },
     "execution_count": 16,
     "metadata": {},
     "output_type": "execute_result"
    }
   ],
   "source": [
    "type(data_dict)"
   ]
  },
  {
   "cell_type": "code",
   "execution_count": 17,
   "metadata": {},
   "outputs": [
    {
     "data": {
      "text/plain": [
       "'Jakarta'"
      ]
     },
     "execution_count": 17,
     "metadata": {},
     "output_type": "execute_result"
    }
   ],
   "source": [
    "data_dict['kota_domisili']"
   ]
  },
  {
   "cell_type": "markdown",
   "metadata": {},
   "source": [
    "Dictionary memiliki keunggulan daripada list karena memungkinkan penyimpanan data dengan key yang bersifat unik, sehingga memudahkan akses dan manipulasi data berdasarkan identifikasi key, bukan hanya index angka."
   ]
  },
  {
   "cell_type": "markdown",
   "metadata": {},
   "source": [
    "### Dive Deep into `String` Data Types\n",
    "\n",
    "..."
   ]
  },
  {
   "cell_type": "markdown",
   "metadata": {},
   "source": [
    "#### 📌 Highlight Poin: Tipe Data di Python\n",
    "\n",
    "1. **String**       : berisi satu karakter atau lebih, dengan karakter yang bisa berupa huruf, angka, simbol, atau karakter khusus.\n",
    "2. **Number**       :\n",
    "    -  `int` untuk bilangan bulat\n",
    "    -  `float` untuk bilangan real.\n",
    "3. **Boolean**      : hanya berisikan nilai `True` atau `False`.\n",
    "4. **List**         : untuk menyimpan beberapa nilai dalam Python, dengan sintaks tanda kurung siku `[]`.\n",
    "5. **Dictionary**   : mirip seperti list, namun `dictionary` dalam bentuk pasangan key-value dan menggunakan syntax tanda kurung kurawal `{}`"
   ]
  },
  {
   "cell_type": "markdown",
   "metadata": {},
   "source": [
    "## Exploring Python Functions and Looping Concepts"
   ]
  },
  {
   "cell_type": "markdown",
   "metadata": {},
   "source": [
    "### Function"
   ]
  },
  {
   "cell_type": "markdown",
   "metadata": {},
   "source": [
    "Function merupakan sekelompok perintah yang digunakan untuk melakukan tugas tertentu. Ketika kita melakukan sesuatu yang berulang dan rumit, alangkah baiknya kita menggunakan fungsi agar tidak ada langkah yang berubah maupun penulisan kode yang salah. Penulisan umum sebuah fungsi yaitu:\n",
    "```python\n",
    "def nama_fungsi(parameter):\n",
    "    perintah\n",
    "```\n",
    "Pada syntax umum di atas, `def` merupakan inisiator untuk sebuah fungsi. Sementara hal-hal yang harus kita tentukan yaitu nama dari fungsi, parameter yang akan digunakan di dalamnya, serta perintah atau kode. \n",
    "\n",
    "Sebagai contoh, kita akan membuat sebuah fungsi luas segitiga:"
   ]
  },
  {
   "cell_type": "code",
   "execution_count": 18,
   "metadata": {},
   "outputs": [],
   "source": [
    "# fungsi luas_segitiga\n",
    "def luas_persegi(sisi):\n",
    "    hasil = sisi * sisi\n",
    "    return hasil"
   ]
  },
  {
   "cell_type": "code",
   "execution_count": 19,
   "metadata": {},
   "outputs": [
    {
     "data": {
      "text/plain": [
       "16"
      ]
     },
     "execution_count": 19,
     "metadata": {},
     "output_type": "execute_result"
    }
   ],
   "source": [
    "# memanggil fungsi\n",
    "luas_persegi(sisi = 4)"
   ]
  },
  {
   "cell_type": "markdown",
   "metadata": {},
   "source": [
    "### Looping (Perulangan)"
   ]
  },
  {
   "cell_type": "markdown",
   "metadata": {},
   "source": [
    "`for loop` digunakan untuk mengulangi/mengiterasi suatu urutan (dapat berupa list atau string)."
   ]
  },
  {
   "cell_type": "markdown",
   "metadata": {},
   "source": [
    "Contoh `for loop` untuk mengiterasi elemen pada list:"
   ]
  },
  {
   "cell_type": "code",
   "execution_count": 20,
   "metadata": {},
   "outputs": [
    {
     "name": "stdout",
     "output_type": "stream",
     "text": [
      "Jakarta\n",
      "Bogor\n",
      "Depok\n",
      "Tangerang\n",
      "Bekasi\n"
     ]
    }
   ],
   "source": [
    "jabodetabek = ['Jakarta', 'Bogor', 'Depok', 'Tangerang', 'Bekasi']\n",
    "\n",
    "# for loop\n",
    "for x in jabodetabek:\n",
    "  print(x)"
   ]
  },
  {
   "cell_type": "markdown",
   "metadata": {},
   "source": [
    "Untuk mengulang satu set kode beberapa kali, kita dapat menggunakan fungsi `range()`. Fungsi range() mengembalikan urutan angka, mulai dari 0 secara default dan berakhir pada angka yang ditentukan.\n",
    "\n",
    "parameter range:\n",
    "`range(start, end)`\n",
    "\n",
    "parameter range (additional):\n",
    "`range(start, end, step)`"
   ]
  },
  {
   "cell_type": "code",
   "execution_count": 21,
   "metadata": {},
   "outputs": [
    {
     "name": "stdout",
     "output_type": "stream",
     "text": [
      "1\n",
      "3\n",
      "5\n",
      "7\n",
      "9\n"
     ]
    }
   ],
   "source": [
    "for x in range(1, 11, 2):\n",
    "  print(x)"
   ]
  },
  {
   "cell_type": "markdown",
   "metadata": {},
   "source": [
    "# Working with Dataframe `pandas`\n",
    "\n",
    "`pandas` adalah library yang powerful sebagai tools analisis data dan struktur pada Python. Library ini memiliki kemampuan sebagai berikut:\n",
    "\n",
    "- `pandas` mampu mengolah data menjadi mudah karena mempunyai objek bernama **DataFrame**. \n",
    "\n",
    "- `pandas` memiliki function yang mampu mengolah dataframe dengan menerapkan berbagai operasi dan teknik seperti join, agregasi, grouping, dan lain sebagainya\n",
    "\n",
    "> Lebih lengkapnya silahkan kunjungi [official documentation](https://pandas.pydata.org/)\n",
    "\n",
    "Untuk menggunakan `pandas`, kita perlu import terlebih dahulu library dengan cara berikut ini:"
   ]
  },
  {
   "cell_type": "code",
   "execution_count": 22,
   "metadata": {},
   "outputs": [
    {
     "name": "stdout",
     "output_type": "stream",
     "text": [
      "2.1.3\n"
     ]
    }
   ],
   "source": [
    "import pandas as pd\n",
    "print(pd.__version__)"
   ]
  },
  {
   "cell_type": "markdown",
   "metadata": {},
   "source": [
    "## Read Data\n",
    "\n",
    "Untuk membaca data atau file dengan format `.csv` dapat menggunakan method `.read_csv()`.\n",
    "\n",
    "Syntax:\n",
    "```python\n",
    "pandas.read_csv(\"path/data\")\n",
    "```\n",
    "\n",
    "🚀 Bacalah data `receipts.csv` yang berada dalam folder `data_input`"
   ]
  },
  {
   "cell_type": "code",
   "execution_count": 23,
   "metadata": {},
   "outputs": [
    {
     "data": {
      "text/html": [
       "<div>\n",
       "<style scoped>\n",
       "    .dataframe tbody tr th:only-of-type {\n",
       "        vertical-align: middle;\n",
       "    }\n",
       "\n",
       "    .dataframe tbody tr th {\n",
       "        vertical-align: top;\n",
       "    }\n",
       "\n",
       "    .dataframe thead th {\n",
       "        text-align: right;\n",
       "    }\n",
       "</style>\n",
       "<table border=\"1\" class=\"dataframe\">\n",
       "  <thead>\n",
       "    <tr style=\"text-align: right;\">\n",
       "      <th></th>\n",
       "      <th>receipt_id</th>\n",
       "      <th>item_name</th>\n",
       "      <th>count</th>\n",
       "      <th>price</th>\n",
       "      <th>total_price</th>\n",
       "    </tr>\n",
       "  </thead>\n",
       "  <tbody>\n",
       "    <tr>\n",
       "      <th>0</th>\n",
       "      <td>ID0000</td>\n",
       "      <td>real ganache</td>\n",
       "      <td>1.0</td>\n",
       "      <td>16500</td>\n",
       "      <td>45500</td>\n",
       "    </tr>\n",
       "    <tr>\n",
       "      <th>1</th>\n",
       "      <td>ID0000</td>\n",
       "      <td>egg tart</td>\n",
       "      <td>1.0</td>\n",
       "      <td>13000</td>\n",
       "      <td>45500</td>\n",
       "    </tr>\n",
       "    <tr>\n",
       "      <th>2</th>\n",
       "      <td>ID0000</td>\n",
       "      <td>pizza toast</td>\n",
       "      <td>1.0</td>\n",
       "      <td>16000</td>\n",
       "      <td>45500</td>\n",
       "    </tr>\n",
       "    <tr>\n",
       "      <th>3</th>\n",
       "      <td>ID0001</td>\n",
       "      <td>kopi susu kolonel</td>\n",
       "      <td>1.0</td>\n",
       "      <td>23000</td>\n",
       "      <td>23000</td>\n",
       "    </tr>\n",
       "    <tr>\n",
       "      <th>4</th>\n",
       "      <td>ID0002</td>\n",
       "      <td>s-ovaltine</td>\n",
       "      <td>1.0</td>\n",
       "      <td>20000</td>\n",
       "      <td>20000</td>\n",
       "    </tr>\n",
       "    <tr>\n",
       "      <th>5</th>\n",
       "      <td>ID0003</td>\n",
       "      <td>m-carame 1 black tea</td>\n",
       "      <td>1.0</td>\n",
       "      <td>28000</td>\n",
       "      <td>28000</td>\n",
       "    </tr>\n",
       "    <tr>\n",
       "      <th>6</th>\n",
       "      <td>ID0004</td>\n",
       "      <td>bbq chicken</td>\n",
       "      <td>1.0</td>\n",
       "      <td>41000</td>\n",
       "      <td>41000</td>\n",
       "    </tr>\n",
       "    <tr>\n",
       "      <th>7</th>\n",
       "      <td>ID0005</td>\n",
       "      <td>le mineral</td>\n",
       "      <td>1.0</td>\n",
       "      <td>8000</td>\n",
       "      <td>8000</td>\n",
       "    </tr>\n",
       "    <tr>\n",
       "      <th>8</th>\n",
       "      <td>ID0006</td>\n",
       "      <td>potato sausage bread</td>\n",
       "      <td>1.0</td>\n",
       "      <td>19000</td>\n",
       "      <td>123000</td>\n",
       "    </tr>\n",
       "    <tr>\n",
       "      <th>9</th>\n",
       "      <td>ID0006</td>\n",
       "      <td>oreo green tea spread</td>\n",
       "      <td>1.0</td>\n",
       "      <td>52000</td>\n",
       "      <td>123000</td>\n",
       "    </tr>\n",
       "    <tr>\n",
       "      <th>10</th>\n",
       "      <td>ID0006</td>\n",
       "      <td>white choco banana spread</td>\n",
       "      <td>1.0</td>\n",
       "      <td>52000</td>\n",
       "      <td>123000</td>\n",
       "    </tr>\n",
       "    <tr>\n",
       "      <th>11</th>\n",
       "      <td>ID0007</td>\n",
       "      <td>choco devil</td>\n",
       "      <td>4.0</td>\n",
       "      <td>63636</td>\n",
       "      <td>59500</td>\n",
       "    </tr>\n",
       "    <tr>\n",
       "      <th>12</th>\n",
       "      <td>ID0007</td>\n",
       "      <td>cp 360 club card</td>\n",
       "      <td>1.0</td>\n",
       "      <td>-9545</td>\n",
       "      <td>59500</td>\n",
       "    </tr>\n",
       "    <tr>\n",
       "      <th>13</th>\n",
       "      <td>ID0008</td>\n",
       "      <td>talam ungu</td>\n",
       "      <td>3.0</td>\n",
       "      <td>19500</td>\n",
       "      <td>11700</td>\n",
       "    </tr>\n",
       "    <tr>\n",
       "      <th>14</th>\n",
       "      <td>ID0008</td>\n",
       "      <td>mika kecil</td>\n",
       "      <td>1.0</td>\n",
       "      <td>0</td>\n",
       "      <td>11700</td>\n",
       "    </tr>\n",
       "    <tr>\n",
       "      <th>15</th>\n",
       "      <td>ID0009</td>\n",
       "      <td>tahu ikan oma giok</td>\n",
       "      <td>1.0</td>\n",
       "      <td>20000</td>\n",
       "      <td>20000</td>\n",
       "    </tr>\n",
       "    <tr>\n",
       "      <th>16</th>\n",
       "      <td>ID0010</td>\n",
       "      <td>serbu</td>\n",
       "      <td>2.0</td>\n",
       "      <td>40000</td>\n",
       "      <td>60000</td>\n",
       "    </tr>\n",
       "    <tr>\n",
       "      <th>17</th>\n",
       "      <td>ID0010</td>\n",
       "      <td>choco peanut bread</td>\n",
       "      <td>2.0</td>\n",
       "      <td>20000</td>\n",
       "      <td>60000</td>\n",
       "    </tr>\n",
       "    <tr>\n",
       "      <th>18</th>\n",
       "      <td>ID0011</td>\n",
       "      <td>se'i sapi sambal matah ( r )</td>\n",
       "      <td>1.0</td>\n",
       "      <td>20000</td>\n",
       "      <td>89100</td>\n",
       "    </tr>\n",
       "    <tr>\n",
       "      <th>19</th>\n",
       "      <td>ID0011</td>\n",
       "      <td>se'i s-pi lada hitam (j)</td>\n",
       "      <td>1.0</td>\n",
       "      <td>35000</td>\n",
       "      <td>89100</td>\n",
       "    </tr>\n",
       "    <tr>\n",
       "      <th>20</th>\n",
       "      <td>ID0011</td>\n",
       "      <td>nasi putih</td>\n",
       "      <td>2.0</td>\n",
       "      <td>10000</td>\n",
       "      <td>89100</td>\n",
       "    </tr>\n",
       "    <tr>\n",
       "      <th>21</th>\n",
       "      <td>ID0011</td>\n",
       "      <td>milk shake coklat</td>\n",
       "      <td>1.0</td>\n",
       "      <td>16000</td>\n",
       "      <td>89100</td>\n",
       "    </tr>\n",
       "    <tr>\n",
       "      <th>22</th>\n",
       "      <td>ID0012</td>\n",
       "      <td>es kopi susu</td>\n",
       "      <td>4.0</td>\n",
       "      <td>72000</td>\n",
       "      <td>72000</td>\n",
       "    </tr>\n",
       "    <tr>\n",
       "      <th>23</th>\n",
       "      <td>ID0013</td>\n",
       "      <td>mineral 600 ml</td>\n",
       "      <td>1.0</td>\n",
       "      <td>7727</td>\n",
       "      <td>45500</td>\n",
       "    </tr>\n",
       "    <tr>\n",
       "      <th>24</th>\n",
       "      <td>ID0013</td>\n",
       "      <td>bulgogi rice r</td>\n",
       "      <td>1.0</td>\n",
       "      <td>33636</td>\n",
       "      <td>45500</td>\n",
       "    </tr>\n",
       "    <tr>\n",
       "      <th>25</th>\n",
       "      <td>ID0014</td>\n",
       "      <td>arem arem</td>\n",
       "      <td>2.0</td>\n",
       "      <td>24000</td>\n",
       "      <td>39600</td>\n",
       "    </tr>\n",
       "    <tr>\n",
       "      <th>26</th>\n",
       "      <td>ID0014</td>\n",
       "      <td>kroket</td>\n",
       "      <td>1.0</td>\n",
       "      <td>12000</td>\n",
       "      <td>39600</td>\n",
       "    </tr>\n",
       "    <tr>\n",
       "      <th>27</th>\n",
       "      <td>ID0015</td>\n",
       "      <td>arem arem</td>\n",
       "      <td>2.0</td>\n",
       "      <td>24000</td>\n",
       "      <td>59400</td>\n",
       "    </tr>\n",
       "    <tr>\n",
       "      <th>28</th>\n",
       "      <td>ID0015</td>\n",
       "      <td>pepenero pastel</td>\n",
       "      <td>2.0</td>\n",
       "      <td>30000</td>\n",
       "      <td>59400</td>\n",
       "    </tr>\n",
       "    <tr>\n",
       "      <th>29</th>\n",
       "      <td>ID0016</td>\n",
       "      <td>tt</td>\n",
       "      <td>1.0</td>\n",
       "      <td>20000</td>\n",
       "      <td>20000</td>\n",
       "    </tr>\n",
       "    <tr>\n",
       "      <th>30</th>\n",
       "      <td>ID0017</td>\n",
       "      <td>lemonade 16oz</td>\n",
       "      <td>1.0</td>\n",
       "      <td>20000</td>\n",
       "      <td>20000</td>\n",
       "    </tr>\n",
       "    <tr>\n",
       "      <th>31</th>\n",
       "      <td>ID0018</td>\n",
       "      <td>beef c roll 3pcs</td>\n",
       "      <td>1.0</td>\n",
       "      <td>10000</td>\n",
       "      <td>25000</td>\n",
       "    </tr>\n",
       "    <tr>\n",
       "      <th>32</th>\n",
       "      <td>ID0018</td>\n",
       "      <td>kaya bred</td>\n",
       "      <td>1.0</td>\n",
       "      <td>15000</td>\n",
       "      <td>25000</td>\n",
       "    </tr>\n",
       "    <tr>\n",
       "      <th>33</th>\n",
       "      <td>ID0019</td>\n",
       "      <td>futami 17 green tea (clas</td>\n",
       "      <td>1.0</td>\n",
       "      <td>12500</td>\n",
       "      <td>42500</td>\n",
       "    </tr>\n",
       "    <tr>\n",
       "      <th>34</th>\n",
       "      <td>ID0019</td>\n",
       "      <td>egg tart</td>\n",
       "      <td>1.0</td>\n",
       "      <td>13000</td>\n",
       "      <td>42500</td>\n",
       "    </tr>\n",
       "    <tr>\n",
       "      <th>35</th>\n",
       "      <td>ID0019</td>\n",
       "      <td>grain croque monsieur</td>\n",
       "      <td>1.0</td>\n",
       "      <td>17000</td>\n",
       "      <td>42500</td>\n",
       "    </tr>\n",
       "  </tbody>\n",
       "</table>\n",
       "</div>"
      ],
      "text/plain": [
       "   receipt_id                     item_name  count  price  total_price\n",
       "0      ID0000                  real ganache    1.0  16500        45500\n",
       "1      ID0000                      egg tart    1.0  13000        45500\n",
       "2      ID0000                   pizza toast    1.0  16000        45500\n",
       "3      ID0001             kopi susu kolonel    1.0  23000        23000\n",
       "4      ID0002                    s-ovaltine    1.0  20000        20000\n",
       "5      ID0003          m-carame 1 black tea    1.0  28000        28000\n",
       "6      ID0004                   bbq chicken    1.0  41000        41000\n",
       "7      ID0005                    le mineral    1.0   8000         8000\n",
       "8      ID0006          potato sausage bread    1.0  19000       123000\n",
       "9      ID0006         oreo green tea spread    1.0  52000       123000\n",
       "10     ID0006     white choco banana spread    1.0  52000       123000\n",
       "11     ID0007                   choco devil    4.0  63636        59500\n",
       "12     ID0007              cp 360 club card    1.0  -9545        59500\n",
       "13     ID0008                    talam ungu    3.0  19500        11700\n",
       "14     ID0008                    mika kecil    1.0      0        11700\n",
       "15     ID0009            tahu ikan oma giok    1.0  20000        20000\n",
       "16     ID0010                         serbu    2.0  40000        60000\n",
       "17     ID0010            choco peanut bread    2.0  20000        60000\n",
       "18     ID0011  se'i sapi sambal matah ( r )    1.0  20000        89100\n",
       "19     ID0011      se'i s-pi lada hitam (j)    1.0  35000        89100\n",
       "20     ID0011                    nasi putih    2.0  10000        89100\n",
       "21     ID0011             milk shake coklat    1.0  16000        89100\n",
       "22     ID0012                  es kopi susu    4.0  72000        72000\n",
       "23     ID0013                mineral 600 ml    1.0   7727        45500\n",
       "24     ID0013                bulgogi rice r    1.0  33636        45500\n",
       "25     ID0014                     arem arem    2.0  24000        39600\n",
       "26     ID0014                        kroket    1.0  12000        39600\n",
       "27     ID0015                     arem arem    2.0  24000        59400\n",
       "28     ID0015               pepenero pastel    2.0  30000        59400\n",
       "29     ID0016                            tt    1.0  20000        20000\n",
       "30     ID0017                 lemonade 16oz    1.0  20000        20000\n",
       "31     ID0018              beef c roll 3pcs    1.0  10000        25000\n",
       "32     ID0018                     kaya bred    1.0  15000        25000\n",
       "33     ID0019     futami 17 green tea (clas    1.0  12500        42500\n",
       "34     ID0019                      egg tart    1.0  13000        42500\n",
       "35     ID0019         grain croque monsieur    1.0  17000        42500"
      ]
     },
     "execution_count": 23,
     "metadata": {},
     "output_type": "execute_result"
    }
   ],
   "source": [
    "receipts = pd.read_csv('data_input/receipt_cleaned.csv')\n",
    "receipts"
   ]
  },
  {
   "cell_type": "markdown",
   "metadata": {},
   "source": [
    "**Deskripsi Data:**\n",
    "\n",
    "Data `receipt_cleaned.csv` merupakan data transaksi atau struk pembelian dari suatu tempat seperti kafe atau restoran. Berikut adalah deskripsi untuk setiap kolom dalam data:\n",
    "\n",
    "- `receipt_id`: Nomor identifikasi unik untuk setiap struk pembelian.\n",
    "- `item_name`: Nama produk atau item yang dibeli.\n",
    "- `count`: Jumlah unit dari suatu produk yang dibeli.\n",
    "- `price`: Harga per unit dari suatu produk.\n",
    "- `total_price`: Total harga untuk suatu produk (jumlah unit dikalikan dengan harga per unit)."
   ]
  },
  {
   "cell_type": "markdown",
   "metadata": {},
   "source": [
    "Lakukan pengamatan 5 data teratas dari `receipts` menggunakan `.head()`"
   ]
  },
  {
   "cell_type": "code",
   "execution_count": 24,
   "metadata": {},
   "outputs": [
    {
     "data": {
      "text/html": [
       "<div>\n",
       "<style scoped>\n",
       "    .dataframe tbody tr th:only-of-type {\n",
       "        vertical-align: middle;\n",
       "    }\n",
       "\n",
       "    .dataframe tbody tr th {\n",
       "        vertical-align: top;\n",
       "    }\n",
       "\n",
       "    .dataframe thead th {\n",
       "        text-align: right;\n",
       "    }\n",
       "</style>\n",
       "<table border=\"1\" class=\"dataframe\">\n",
       "  <thead>\n",
       "    <tr style=\"text-align: right;\">\n",
       "      <th></th>\n",
       "      <th>receipt_id</th>\n",
       "      <th>item_name</th>\n",
       "      <th>count</th>\n",
       "      <th>price</th>\n",
       "      <th>total_price</th>\n",
       "    </tr>\n",
       "  </thead>\n",
       "  <tbody>\n",
       "    <tr>\n",
       "      <th>0</th>\n",
       "      <td>ID0000</td>\n",
       "      <td>real ganache</td>\n",
       "      <td>1.0</td>\n",
       "      <td>16500</td>\n",
       "      <td>45500</td>\n",
       "    </tr>\n",
       "    <tr>\n",
       "      <th>1</th>\n",
       "      <td>ID0000</td>\n",
       "      <td>egg tart</td>\n",
       "      <td>1.0</td>\n",
       "      <td>13000</td>\n",
       "      <td>45500</td>\n",
       "    </tr>\n",
       "    <tr>\n",
       "      <th>2</th>\n",
       "      <td>ID0000</td>\n",
       "      <td>pizza toast</td>\n",
       "      <td>1.0</td>\n",
       "      <td>16000</td>\n",
       "      <td>45500</td>\n",
       "    </tr>\n",
       "    <tr>\n",
       "      <th>3</th>\n",
       "      <td>ID0001</td>\n",
       "      <td>kopi susu kolonel</td>\n",
       "      <td>1.0</td>\n",
       "      <td>23000</td>\n",
       "      <td>23000</td>\n",
       "    </tr>\n",
       "    <tr>\n",
       "      <th>4</th>\n",
       "      <td>ID0002</td>\n",
       "      <td>s-ovaltine</td>\n",
       "      <td>1.0</td>\n",
       "      <td>20000</td>\n",
       "      <td>20000</td>\n",
       "    </tr>\n",
       "  </tbody>\n",
       "</table>\n",
       "</div>"
      ],
      "text/plain": [
       "  receipt_id          item_name  count  price  total_price\n",
       "0     ID0000       real ganache    1.0  16500        45500\n",
       "1     ID0000           egg tart    1.0  13000        45500\n",
       "2     ID0000        pizza toast    1.0  16000        45500\n",
       "3     ID0001  kopi susu kolonel    1.0  23000        23000\n",
       "4     ID0002         s-ovaltine    1.0  20000        20000"
      ]
     },
     "execution_count": 24,
     "metadata": {},
     "output_type": "execute_result"
    }
   ],
   "source": [
    "# code here\n",
    "receipts.head()"
   ]
  },
  {
   "cell_type": "markdown",
   "metadata": {},
   "source": [
    "## `pandas` Data Types\n",
    "\n",
    "- Dataframe merupakan tabel/data tabular dua dimensi yaitu baris dan kolom.\n",
    "- Dataframe terdiri dari beberapa **Series** (kolom).\n",
    "- Dalam satu series harus memiliki tipe data yang sama.\n",
    "- `pandas` akan menentukan tipe data dari masing-masing Series, tapi hasil dari pandas tidak selalu benar."
   ]
  },
  {
   "cell_type": "markdown",
   "metadata": {},
   "source": [
    "Berikut rangkuman tipe data `pandas`:\n",
    "\n",
    "**Note: Fokus pada kolom `Pandas dtype` dan `Usage`**\n",
    "\n",
    "| Pandas dtype  | Python type  | Usage                                        |\n",
    "|---------------|--------------|----------------------------------------------|\n",
    "| object, str   | str          | Text or mixed numeric and non-numeric values |\n",
    "| int64         | int          | Integer numbers                              |\n",
    "| float64       | float        | Floating point numbers                       |\n",
    "| bool          | bool         | True/False values                            |\n",
    "| datetime64[ns]| -            | Date and time values                         |\n",
    "| timedelta[ns] | -            |  Differences between two datetimes           |\n",
    "| category      | -            | Finite list of text values                   |\n",
    "\n",
    "Referensi: [Overview of Pandas Data Types](https://pbpython.com/pandas_dtypes.html)"
   ]
  },
  {
   "cell_type": "markdown",
   "metadata": {},
   "source": [
    "**Tipe data Pandas:**\n",
    "\n",
    "- `int64`: Integer (bilangan bulat, tanpa koma)\n",
    "- `float64`: Bilangan desimal (berkoma)\n",
    "- `object`: Text (string)\n",
    "- `category`: Kategorikal \n",
    "- `datetime64[ns]`: Data waktu\n",
    "\n",
    "Karakteristik tipe data `category` :\n",
    "- Dapat dikelompokkan menjadi beberapa kelompok (category)\n",
    "- Nilainya berulang"
   ]
  },
  {
   "cell_type": "markdown",
   "metadata": {},
   "source": [
    "Saat kita membaca data dengan `pd.read_csv()`, `pandas` akan mencoba menentukan tipe data dari setiap kolom. Lakukan investigasi awal untuk melihat struktur data terhadap object DataFrame dengan menggunakan method `.info()`."
   ]
  },
  {
   "cell_type": "code",
   "execution_count": 25,
   "metadata": {},
   "outputs": [
    {
     "name": "stdout",
     "output_type": "stream",
     "text": [
      "<class 'pandas.core.frame.DataFrame'>\n",
      "RangeIndex: 36 entries, 0 to 35\n",
      "Data columns (total 5 columns):\n",
      " #   Column       Non-Null Count  Dtype  \n",
      "---  ------       --------------  -----  \n",
      " 0   receipt_id   36 non-null     object \n",
      " 1   item_name    36 non-null     object \n",
      " 2   count        36 non-null     float64\n",
      " 3   price        36 non-null     int64  \n",
      " 4   total_price  36 non-null     int64  \n",
      "dtypes: float64(1), int64(2), object(2)\n",
      "memory usage: 1.5+ KB\n"
     ]
    }
   ],
   "source": [
    "# cek tipe data\n",
    "receipts.info()"
   ]
  },
  {
   "cell_type": "markdown",
   "metadata": {},
   "source": [
    "**💡 NOTES**\n",
    "\n",
    "Dengan menggunakan method `.info()`, kita dapat memeriksa **informasi** lengkap dari DataFrame kita:\n",
    "\n",
    "- Dimensi data: jumlah baris dan kolom (`.shape`)\n",
    "- Nama kolom (`.columns`)\n",
    "- Tipe data setiap kolom (`.dtypes`)\n",
    "- Penggunaan memori"
   ]
  },
  {
   "cell_type": "markdown",
   "metadata": {},
   "source": [
    "**Kolom manakah yang memiliki format tipe data yang belum sesuai?**\n",
    "\n",
    "> Jawaban: `item_name` -> category"
   ]
  },
  {
   "cell_type": "markdown",
   "metadata": {},
   "source": [
    "Untuk mengubah tipe data pada `pandas`, dapat menggunakan method `astype()`.\n",
    "\n",
    "**Syntax**\n",
    "```python\n",
    "df['column_name'] = df['column_name'].astype('new_data_types')\n",
    "```"
   ]
  },
  {
   "cell_type": "code",
   "execution_count": 41,
   "metadata": {},
   "outputs": [
    {
     "name": "stdout",
     "output_type": "stream",
     "text": [
      "<class 'pandas.core.frame.DataFrame'>\n",
      "RangeIndex: 36 entries, 0 to 35\n",
      "Data columns (total 5 columns):\n",
      " #   Column       Non-Null Count  Dtype   \n",
      "---  ------       --------------  -----   \n",
      " 0   receipt_id   36 non-null     category\n",
      " 1   item_name    36 non-null     category\n",
      " 2   count        36 non-null     float64 \n",
      " 3   price        36 non-null     int64   \n",
      " 4   total_price  36 non-null     int64   \n",
      "dtypes: category(2), float64(1), int64(2)\n",
      "memory usage: 3.1 KB\n"
     ]
    }
   ],
   "source": [
    "# check data type\n",
    "receipts['item_name'] = receipts['item_name'].astype('category')\n",
    "\n",
    "receipts.info()"
   ]
  },
  {
   "cell_type": "markdown",
   "metadata": {},
   "source": [
    "#### Additional: Object & Categorical Variables\n",
    "\n",
    "**Karakteristik tipe data `object`**:\n",
    "- Mirip seperti tipe data string pada python\n",
    "- Kemunculannya unik (artinya setiap row kemunculannya hanya 1 atau beberapa)\n",
    "Contoh: ID, NIK, No.HP\n",
    "\n",
    "**Karakteristik tipe data `category`:**\n",
    "- Dapat dikelompokkan menjadi beberapa kelompok (category)\n",
    "- Kemunculannya berulang\n",
    "Contoh: Gender, Nama Barang dalam data transaksi, provinsi, jenis kartu kredit, kategori barang: elektronik dan non elektronik\n",
    "\n",
    "---\n",
    "\n",
    "Dua alasan mengapa kita perlu menggunakan tipe data categorical:\n",
    "\n",
    "1. **Business Side**: memudahkan Analyst untuk memilih metode statistik atau tipe plot mana yang digunakan untuk mengolah data.\n",
    "2. **Technical Side**: menghemat memori dan menambah kecepatan komputasional\n",
    "\n",
    "---\n",
    "\n",
    "💡 Kita bisa menggunakan method berikut untuk **mengidentifikasi kolom mana yang cocok untuk disimpan ke tipe data `category`**\n",
    "\n",
    "- `.unique()` untuk melihat nilai unik di setiap Series/kolom\n",
    "- `.nunique()` untuk melihat jumlah nilai unik/distict pada Series/Dataframe\n",
    "\n",
    "Berikut contoh syntax untuk mengecek nilai unik pada sebuah Series\n",
    "> `df['nama_kolom'].unique()`"
   ]
  },
  {
   "cell_type": "markdown",
   "metadata": {},
   "source": [
    "## Master Data Manipulation & Pre-processing\n",
    "\n",
    "...\n",
    "\n",
    "### Dive Deeper into String Data Types\n",
    "\n",
    "..."
   ]
  },
  {
   "cell_type": "markdown",
   "metadata": {},
   "source": [
    "### Contingency Tables / Frequency Tables\n",
    "\n",
    "Untuk menghitung contigency tables, kita dapat menggunakan method `.value_counts()`. \n",
    "**Kegunaan**: Menghitung banyak baris pada setiap category dalam 1 kolom, dan defaultnya diurutkan secara descending\n",
    "\n",
    "Parameter:\n",
    "- `ascending=True`: **urutkan nilai** dalam urutan menaik"
   ]
  },
  {
   "cell_type": "markdown",
   "metadata": {},
   "source": [
    "Mari kita melihat jumlah pengiriman setiap bulannya"
   ]
  },
  {
   "cell_type": "code",
   "execution_count": 31,
   "metadata": {},
   "outputs": [
    {
     "data": {
      "text/plain": [
       "receipt_id\n",
       "ID0011    4\n",
       "ID0000    3\n",
       "ID0006    3\n",
       "ID0019    3\n",
       "ID0007    2\n",
       "ID0008    2\n",
       "ID0013    2\n",
       "ID0014    2\n",
       "ID0015    2\n",
       "ID0018    2\n",
       "ID0010    2\n",
       "ID0004    1\n",
       "ID0005    1\n",
       "ID0003    1\n",
       "ID0009    1\n",
       "ID0001    1\n",
       "ID0002    1\n",
       "ID0012    1\n",
       "ID0016    1\n",
       "ID0017    1\n",
       "Name: count, dtype: int64"
      ]
     },
     "execution_count": 31,
     "metadata": {},
     "output_type": "execute_result"
    }
   ],
   "source": [
    "receipts['receipt_id'].value_counts()"
   ]
  },
  {
   "cell_type": "markdown",
   "metadata": {},
   "source": [
    "❓ Mari kita lihat barang apa yang sering dibeli?"
   ]
  },
  {
   "cell_type": "code",
   "execution_count": 34,
   "metadata": {},
   "outputs": [
    {
     "data": {
      "text/plain": [
       "item_name\n",
       "arem arem                       2\n",
       "egg tart                        2\n",
       "real ganache                    1\n",
       "se'i s-pi lada hitam (j)        1\n",
       "nasi putih                      1\n",
       "milk shake coklat               1\n",
       "es kopi susu                    1\n",
       "mineral 600 ml                  1\n",
       "bulgogi rice r                  1\n",
       "kroket                          1\n",
       "pepenero pastel                 1\n",
       "tt                              1\n",
       "lemonade 16oz                   1\n",
       "beef c roll 3pcs                1\n",
       "kaya bred                       1\n",
       "futami 17 green tea (clas       1\n",
       "se'i sapi sambal matah ( r )    1\n",
       "choco peanut bread              1\n",
       "serbu                           1\n",
       "tahu ikan oma giok              1\n",
       "mika kecil                      1\n",
       "talam ungu                      1\n",
       "cp 360 club card                1\n",
       "choco devil                     1\n",
       "white choco banana spread       1\n",
       "oreo green tea spread           1\n",
       "potato sausage bread            1\n",
       "le mineral                      1\n",
       "bbq chicken                     1\n",
       "m-carame 1 black tea            1\n",
       "s-ovaltine                      1\n",
       "kopi susu kolonel               1\n",
       "pizza toast                     1\n",
       "grain croque monsieur           1\n",
       "Name: count, dtype: int64"
      ]
     },
     "execution_count": 34,
     "metadata": {},
     "output_type": "execute_result"
    }
   ],
   "source": [
    "# code here\n",
    "receipts['item_name'].value_counts(ascending = False)"
   ]
  },
  {
   "cell_type": "markdown",
   "metadata": {},
   "source": [
    "## Perform Conditional Subsetting Operations\n",
    "\n",
    "Conditional subsetting bermaksud untuk mengambil sebagian data dari DataFrame berdasarkan suatu kondisi tertentu, seperti:\n",
    "- Pengiriman yang terjadi pada bulan Januari\n",
    "- Pengiriman dengan jarak lebih dari 10km\n",
    "- Pengiriman yang memiliki biaya `add_cost`, atau `add_cost != 0`\n",
    "\n",
    "Syntax penulisan untuk conditional subsetting adalah:\n",
    "\n",
    "**`df[df['column_name'] <comparison_operator> <value>]`**\n",
    "\n",
    "atau\n",
    "\n",
    "**`df[df.column_name <comparison_operator> <value>]`**\n",
    "\n",
    "Contoh comparison_operator adalah seperti `==`, `!=`, `>`, `>=`, `<`, `<=`."
   ]
  },
  {
   "cell_type": "markdown",
   "metadata": {},
   "source": [
    "Menampilkan data yang terjadi pada hari Senin\n",
    "\n",
    "`receipts[receipts['item_name'] == 'arem arem']`\n",
    "\n",
    "kondisi -> `receipts['item_name'] == 'arem arem'`"
   ]
  },
  {
   "cell_type": "code",
   "execution_count": 36,
   "metadata": {},
   "outputs": [
    {
     "data": {
      "text/html": [
       "<div>\n",
       "<style scoped>\n",
       "    .dataframe tbody tr th:only-of-type {\n",
       "        vertical-align: middle;\n",
       "    }\n",
       "\n",
       "    .dataframe tbody tr th {\n",
       "        vertical-align: top;\n",
       "    }\n",
       "\n",
       "    .dataframe thead th {\n",
       "        text-align: right;\n",
       "    }\n",
       "</style>\n",
       "<table border=\"1\" class=\"dataframe\">\n",
       "  <thead>\n",
       "    <tr style=\"text-align: right;\">\n",
       "      <th></th>\n",
       "      <th>receipt_id</th>\n",
       "      <th>item_name</th>\n",
       "      <th>count</th>\n",
       "      <th>price</th>\n",
       "      <th>total_price</th>\n",
       "    </tr>\n",
       "  </thead>\n",
       "  <tbody>\n",
       "    <tr>\n",
       "      <th>25</th>\n",
       "      <td>ID0014</td>\n",
       "      <td>arem arem</td>\n",
       "      <td>2.0</td>\n",
       "      <td>24000</td>\n",
       "      <td>39600</td>\n",
       "    </tr>\n",
       "    <tr>\n",
       "      <th>27</th>\n",
       "      <td>ID0015</td>\n",
       "      <td>arem arem</td>\n",
       "      <td>2.0</td>\n",
       "      <td>24000</td>\n",
       "      <td>59400</td>\n",
       "    </tr>\n",
       "  </tbody>\n",
       "</table>\n",
       "</div>"
      ],
      "text/plain": [
       "   receipt_id  item_name  count  price  total_price\n",
       "25     ID0014  arem arem    2.0  24000        39600\n",
       "27     ID0015  arem arem    2.0  24000        59400"
      ]
     },
     "execution_count": 36,
     "metadata": {},
     "output_type": "execute_result"
    }
   ],
   "source": [
    "receipts[receipts['item_name'] == 'arem arem']"
   ]
  },
  {
   "cell_type": "markdown",
   "metadata": {},
   "source": [
    "❓ Menampilkan data pembelian yang memiliki `receipt_id` ID0015"
   ]
  },
  {
   "cell_type": "code",
   "execution_count": 37,
   "metadata": {},
   "outputs": [
    {
     "data": {
      "text/html": [
       "<div>\n",
       "<style scoped>\n",
       "    .dataframe tbody tr th:only-of-type {\n",
       "        vertical-align: middle;\n",
       "    }\n",
       "\n",
       "    .dataframe tbody tr th {\n",
       "        vertical-align: top;\n",
       "    }\n",
       "\n",
       "    .dataframe thead th {\n",
       "        text-align: right;\n",
       "    }\n",
       "</style>\n",
       "<table border=\"1\" class=\"dataframe\">\n",
       "  <thead>\n",
       "    <tr style=\"text-align: right;\">\n",
       "      <th></th>\n",
       "      <th>receipt_id</th>\n",
       "      <th>item_name</th>\n",
       "      <th>count</th>\n",
       "      <th>price</th>\n",
       "      <th>total_price</th>\n",
       "    </tr>\n",
       "  </thead>\n",
       "  <tbody>\n",
       "    <tr>\n",
       "      <th>27</th>\n",
       "      <td>ID0015</td>\n",
       "      <td>arem arem</td>\n",
       "      <td>2.0</td>\n",
       "      <td>24000</td>\n",
       "      <td>59400</td>\n",
       "    </tr>\n",
       "    <tr>\n",
       "      <th>28</th>\n",
       "      <td>ID0015</td>\n",
       "      <td>pepenero pastel</td>\n",
       "      <td>2.0</td>\n",
       "      <td>30000</td>\n",
       "      <td>59400</td>\n",
       "    </tr>\n",
       "  </tbody>\n",
       "</table>\n",
       "</div>"
      ],
      "text/plain": [
       "   receipt_id        item_name  count  price  total_price\n",
       "27     ID0015        arem arem    2.0  24000        59400\n",
       "28     ID0015  pepenero pastel    2.0  30000        59400"
      ]
     },
     "execution_count": 37,
     "metadata": {},
     "output_type": "execute_result"
    }
   ],
   "source": [
    "# code here\n",
    "receipts[receipts['receipt_id'] == 'ID0015']"
   ]
  },
  {
   "cell_type": "markdown",
   "metadata": {},
   "source": [
    "❓ Menampilkan data pembelian yang memiliki total pengeluaran lebih dari > Rp 50.000"
   ]
  },
  {
   "cell_type": "code",
   "execution_count": 39,
   "metadata": {},
   "outputs": [
    {
     "data": {
      "text/html": [
       "<div>\n",
       "<style scoped>\n",
       "    .dataframe tbody tr th:only-of-type {\n",
       "        vertical-align: middle;\n",
       "    }\n",
       "\n",
       "    .dataframe tbody tr th {\n",
       "        vertical-align: top;\n",
       "    }\n",
       "\n",
       "    .dataframe thead th {\n",
       "        text-align: right;\n",
       "    }\n",
       "</style>\n",
       "<table border=\"1\" class=\"dataframe\">\n",
       "  <thead>\n",
       "    <tr style=\"text-align: right;\">\n",
       "      <th></th>\n",
       "      <th>receipt_id</th>\n",
       "      <th>item_name</th>\n",
       "      <th>count</th>\n",
       "      <th>price</th>\n",
       "      <th>total_price</th>\n",
       "    </tr>\n",
       "  </thead>\n",
       "  <tbody>\n",
       "    <tr>\n",
       "      <th>8</th>\n",
       "      <td>ID0006</td>\n",
       "      <td>potato sausage bread</td>\n",
       "      <td>1.0</td>\n",
       "      <td>19000</td>\n",
       "      <td>123000</td>\n",
       "    </tr>\n",
       "    <tr>\n",
       "      <th>9</th>\n",
       "      <td>ID0006</td>\n",
       "      <td>oreo green tea spread</td>\n",
       "      <td>1.0</td>\n",
       "      <td>52000</td>\n",
       "      <td>123000</td>\n",
       "    </tr>\n",
       "    <tr>\n",
       "      <th>10</th>\n",
       "      <td>ID0006</td>\n",
       "      <td>white choco banana spread</td>\n",
       "      <td>1.0</td>\n",
       "      <td>52000</td>\n",
       "      <td>123000</td>\n",
       "    </tr>\n",
       "    <tr>\n",
       "      <th>11</th>\n",
       "      <td>ID0007</td>\n",
       "      <td>choco devil</td>\n",
       "      <td>4.0</td>\n",
       "      <td>63636</td>\n",
       "      <td>59500</td>\n",
       "    </tr>\n",
       "    <tr>\n",
       "      <th>12</th>\n",
       "      <td>ID0007</td>\n",
       "      <td>cp 360 club card</td>\n",
       "      <td>1.0</td>\n",
       "      <td>-9545</td>\n",
       "      <td>59500</td>\n",
       "    </tr>\n",
       "    <tr>\n",
       "      <th>16</th>\n",
       "      <td>ID0010</td>\n",
       "      <td>serbu</td>\n",
       "      <td>2.0</td>\n",
       "      <td>40000</td>\n",
       "      <td>60000</td>\n",
       "    </tr>\n",
       "    <tr>\n",
       "      <th>17</th>\n",
       "      <td>ID0010</td>\n",
       "      <td>choco peanut bread</td>\n",
       "      <td>2.0</td>\n",
       "      <td>20000</td>\n",
       "      <td>60000</td>\n",
       "    </tr>\n",
       "    <tr>\n",
       "      <th>18</th>\n",
       "      <td>ID0011</td>\n",
       "      <td>se'i sapi sambal matah ( r )</td>\n",
       "      <td>1.0</td>\n",
       "      <td>20000</td>\n",
       "      <td>89100</td>\n",
       "    </tr>\n",
       "    <tr>\n",
       "      <th>19</th>\n",
       "      <td>ID0011</td>\n",
       "      <td>se'i s-pi lada hitam (j)</td>\n",
       "      <td>1.0</td>\n",
       "      <td>35000</td>\n",
       "      <td>89100</td>\n",
       "    </tr>\n",
       "    <tr>\n",
       "      <th>20</th>\n",
       "      <td>ID0011</td>\n",
       "      <td>nasi putih</td>\n",
       "      <td>2.0</td>\n",
       "      <td>10000</td>\n",
       "      <td>89100</td>\n",
       "    </tr>\n",
       "    <tr>\n",
       "      <th>21</th>\n",
       "      <td>ID0011</td>\n",
       "      <td>milk shake coklat</td>\n",
       "      <td>1.0</td>\n",
       "      <td>16000</td>\n",
       "      <td>89100</td>\n",
       "    </tr>\n",
       "    <tr>\n",
       "      <th>22</th>\n",
       "      <td>ID0012</td>\n",
       "      <td>es kopi susu</td>\n",
       "      <td>4.0</td>\n",
       "      <td>72000</td>\n",
       "      <td>72000</td>\n",
       "    </tr>\n",
       "    <tr>\n",
       "      <th>27</th>\n",
       "      <td>ID0015</td>\n",
       "      <td>arem arem</td>\n",
       "      <td>2.0</td>\n",
       "      <td>24000</td>\n",
       "      <td>59400</td>\n",
       "    </tr>\n",
       "    <tr>\n",
       "      <th>28</th>\n",
       "      <td>ID0015</td>\n",
       "      <td>pepenero pastel</td>\n",
       "      <td>2.0</td>\n",
       "      <td>30000</td>\n",
       "      <td>59400</td>\n",
       "    </tr>\n",
       "  </tbody>\n",
       "</table>\n",
       "</div>"
      ],
      "text/plain": [
       "   receipt_id                     item_name  count  price  total_price\n",
       "8      ID0006          potato sausage bread    1.0  19000       123000\n",
       "9      ID0006         oreo green tea spread    1.0  52000       123000\n",
       "10     ID0006     white choco banana spread    1.0  52000       123000\n",
       "11     ID0007                   choco devil    4.0  63636        59500\n",
       "12     ID0007              cp 360 club card    1.0  -9545        59500\n",
       "16     ID0010                         serbu    2.0  40000        60000\n",
       "17     ID0010            choco peanut bread    2.0  20000        60000\n",
       "18     ID0011  se'i sapi sambal matah ( r )    1.0  20000        89100\n",
       "19     ID0011      se'i s-pi lada hitam (j)    1.0  35000        89100\n",
       "20     ID0011                    nasi putih    2.0  10000        89100\n",
       "21     ID0011             milk shake coklat    1.0  16000        89100\n",
       "22     ID0012                  es kopi susu    4.0  72000        72000\n",
       "27     ID0015                     arem arem    2.0  24000        59400\n",
       "28     ID0015               pepenero pastel    2.0  30000        59400"
      ]
     },
     "execution_count": 39,
     "metadata": {},
     "output_type": "execute_result"
    }
   ],
   "source": [
    "# code here\n",
    "receipt_above50k = receipts[receipts['total_price'] > 50000]\n",
    "receipt_above50k"
   ]
  },
  {
   "cell_type": "code",
   "execution_count": 40,
   "metadata": {},
   "outputs": [
    {
     "data": {
      "text/plain": [
       "['ID0006', 'ID0007', 'ID0010', 'ID0011', 'ID0012', 'ID0015']\n",
       "Categories (20, object): ['ID0000', 'ID0001', 'ID0002', 'ID0003', ..., 'ID0016', 'ID0017', 'ID0018', 'ID0019']"
      ]
     },
     "execution_count": 40,
     "metadata": {},
     "output_type": "execute_result"
    }
   ],
   "source": [
    "# optional: mengambil yang unique saja\n",
    "receipt_above50k['receipt_id'].unique()"
   ]
  },
  {
   "cell_type": "markdown",
   "metadata": {},
   "source": [
    "___\n",
    "# Document Understanding Transformer (DUT) Utilization\n",
    "\n",
    "## Introduction to Transformer Deep Learning NLP\n",
    "...\n",
    "\n",
    "## Data Extraction using Donut Model (OCR-free Document Understanding Transformer)\n",
    "...\n",
    "\n",
    "## Data Analysis Enhancement with DUT Outputs\n",
    "..."
   ]
  },
  {
   "cell_type": "markdown",
   "metadata": {},
   "source": [
    "___\n",
    "\n",
    "# Integration Gradio for Efficient Scanning\n",
    "...\n",
    "\n",
    "## Understand the Fundamentals of Gradio\n",
    "... for building user-friendly web applications.\n",
    "\n",
    "## Develop Gradio for Real-time Receipt and Invoice Scanning\n",
    "..."
   ]
  }
 ],
 "metadata": {
  "kernelspec": {
   "display_name": "dss_donut",
   "language": "python",
   "name": "python3"
  },
  "language_info": {
   "codemirror_mode": {
    "name": "ipython",
    "version": 3
   },
   "file_extension": ".py",
   "mimetype": "text/x-python",
   "name": "python",
   "nbconvert_exporter": "python",
   "pygments_lexer": "ipython3",
   "version": "3.10.13"
  }
 },
 "nbformat": 4,
 "nbformat_minor": 2
}
